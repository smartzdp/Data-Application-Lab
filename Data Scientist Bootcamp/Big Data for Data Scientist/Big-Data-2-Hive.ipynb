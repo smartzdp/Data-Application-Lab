{
 "cells": [
  {
   "cell_type": "markdown",
   "metadata": {},
   "source": [
    "# Big Data 2 - Hive"
   ]
  },
  {
   "cell_type": "code",
   "execution_count": 1,
   "metadata": {},
   "outputs": [
    {
     "name": "stdout",
     "output_type": "stream",
     "text": [
      "[ssh] Login to montana.dataapplab.com...\n",
      "[ssh] host=montana.dataapplab.com hostname=montana.dataapplab.com other_conf={'user': 'dcdsdepeizhang', 'port': 49233, 'keyfile': ['/home/dz3vg/.ssh/id_rsa'], 'load_system_ssh_config': False, 'missing_host_policy': <paramiko.client.WarningPolicy object at 0x7fc57c1f1590>}\n",
      "[ssh] forwarding local agent\n",
      "[ssh] Successfully logged in.\n"
     ]
    }
   ],
   "source": [
    "%login montana.dataapplab.com"
   ]
  },
  {
   "cell_type": "code",
   "execution_count": 2,
   "metadata": {},
   "outputs": [
    {
     "name": "stdout",
     "output_type": "stream",
     "text": [
      "[ssh] host = montana.dataapplab.com, cwd = /home/dcdsdepeizhang\n",
      "/home/dcdsdepeizhang\n"
     ]
    }
   ],
   "source": [
    "pwd"
   ]
  },
  {
   "cell_type": "code",
   "execution_count": 3,
   "metadata": {},
   "outputs": [
    {
     "name": "stdout",
     "output_type": "stream",
     "text": [
      "[ssh] host = montana.dataapplab.com, cwd = /home/dcdsdepeizhang\n",
      "total 8\n",
      "drwxr-xr-x. 3 dcdsdepeizhang student 4096 Jul 30 21:30 data\n",
      "drwxr-xr-x. 4 dcdsdepeizhang student 4096 Aug  3 22:32 demo\n"
     ]
    }
   ],
   "source": [
    "ls -l"
   ]
  },
  {
   "cell_type": "code",
   "execution_count": 4,
   "metadata": {},
   "outputs": [
    {
     "name": "stdout",
     "output_type": "stream",
     "text": [
      "[ssh] host = montana.dataapplab.com, cwd = /home/dcdsdepeizhang\n",
      "[ssh] new cwd: /home/dcdsdepeizhang/demo\n"
     ]
    }
   ],
   "source": [
    "cd demo/"
   ]
  },
  {
   "cell_type": "code",
   "execution_count": 5,
   "metadata": {},
   "outputs": [
    {
     "name": "stdout",
     "output_type": "stream",
     "text": [
      "[ssh] host = montana.dataapplab.com, cwd = /home/dcdsdepeizhang/demo\n",
      "total 48\n",
      "-rw-r--r--. 1 dcdsdepeizhang student   732 Jul 29 23:04 derby.log\n",
      "-rw-r--r--. 1 dcdsdepeizhang student 15609 Aug  3 23:12 hive-beeline.csv\n",
      "-rw-r--r--. 1 dcdsdepeizhang student     9 Aug  3 21:17 hive-beeline.key\n",
      "-rw-r--r--. 1 dcdsdepeizhang student   266 Aug  3 23:15 hive.sql\n",
      "drwxr-xr-x. 2 dcdsdepeizhang student  4096 Jul 30 23:09 MapReduce\n",
      "-rw-r--r--. 1 dcdsdepeizhang student  1683 Jul 29 23:04 spark-graphx.py\n",
      "-rw-r--r--. 1 dcdsdepeizhang student   732 Jul 30 21:01 spark-mllib.py\n",
      "-rw-r--r--. 1 dcdsdepeizhang student  1232 Jul 30 21:30 spark-sql.py\n",
      "drwxr-xr-x. 2 dcdsdepeizhang student  4096 Jul 29 22:40 spark-warehouse\n"
     ]
    }
   ],
   "source": [
    "ls -l"
   ]
  },
  {
   "cell_type": "markdown",
   "metadata": {},
   "source": [
    "## 1. SQL Query with Beeline"
   ]
  },
  {
   "cell_type": "code",
   "execution_count": 6,
   "metadata": {},
   "outputs": [
    {
     "name": "stdout",
     "output_type": "stream",
     "text": [
      "[ssh] host = montana.dataapplab.com, cwd = /home/dcdsdepeizhang/demo\n",
      "+-------------------------------+--+\n",
      "|         database_name         |\n",
      "+-------------------------------+--+\n",
      "| aadsxuhan_db                  |\n",
      "| acdelingz_db_123              |\n",
      "| acdeshaowu_db                 |\n",
      "| aedsdavidh_db                 |\n",
      "| aedsjasonc_db                 |\n",
      "| aedsjiaxuf_db                 |\n",
      "| aedsjinyul_db                 |\n",
      "| aedsxiaofeiz_db               |\n",
      "| aedsyingc_db                  |\n",
      "| aedsyongz_db                  |\n",
      "| aedsyuxint_db                 |\n",
      "| afaye_db                      |\n",
      "| afdebjfengye1_db              |\n",
      "| afdebjfengye_db               |\n",
      "| afdsbjxiaokang                |\n",
      "| agdsbings_db                  |\n",
      "| agdslex_db                    |\n",
      "| agdsx                         |\n",
      "| aisrexit                      |\n",
      "| akdszhiyuanc_db               |\n",
      "| alafaliq_travel               |\n",
      "| alex_db                       |\n",
      "| alex_demo                     |\n",
      "| alick_db                      |\n",
      "| allen_db                      |\n",
      "| angelapper_db                 |\n",
      "| angli_ab                      |\n",
      "| anzong_db                     |\n",
      "| badskunqiangj_db_123          |\n",
      "| bhdsyunyuh_db                 |\n",
      "| bhdsyunyuh_db_123             |\n",
      "| binghuan_db                   |\n",
      "| binghuan_stock_db             |\n",
      "| binghuan_stock_db_oct_9_17    |\n",
      "| binwen_x_nrd                  |\n",
      "| bjdssherryz_db                |\n",
      "| bjmaomao_db                   |\n",
      "| cadsqiangt_test               |\n",
      "| chen_db                       |\n",
      "| chen_test                     |\n",
      "| chenguang_ta                  |\n",
      "| chenwei_db                    |\n",
      "| chenyang_db                   |\n",
      "| chi                           |\n",
      "| chi_db                        |\n",
      "| chloe_demodb                  |\n",
      "| chris                         |\n",
      "| chubing_db_123                |\n",
      "| claire0317                    |\n",
      "| claire0317_db                 |\n",
      "| clark_db                      |\n",
      "| cn_db_123                     |\n",
      "| cn_hive2_db                   |\n",
      "| creditcard                    |\n",
      "| cyw_db                        |\n",
      "| danielle_danyang              |\n",
      "| danielle_db                   |\n",
      "| datengl_db                    |\n",
      "| datenglstock_db               |\n",
      "| db_jesseqz                    |\n",
      "| dcdsdepeizhang_demodb         |\n",
      "| ddd                           |\n",
      "| default                       |\n",
      "| derek_db                      |\n",
      "| derek_db_123                  |\n",
      "| dexin_db                      |\n",
      "| dhu_db                        |\n",
      "| dinglele_db                   |\n",
      "| dummy_123                     |\n",
      "| empdb                         |\n",
      "| ethan                         |\n",
      "| fake_db                       |\n",
      "| fan                           |\n",
      "| faye_db                       |\n",
      "| frank_hw4                     |\n",
      "| frankj_db                     |\n",
      "| frankz_db                     |\n",
      "| greg_db                       |\n",
      "| guan_db                       |\n",
      "| guolin_db                     |\n",
      "| hanying                       |\n",
      "| hanying_db                    |\n",
      "| haoli_demodb042020            |\n",
      "| heyang                        |\n",
      "| hongzhao_db                   |\n",
      "| huimin_db                     |\n",
      "| huimin_homework               |\n",
      "| hw3_db                        |\n",
      "| hw7                           |\n",
      "| jane_db_0311                  |\n",
      "| jason_demodb032019            |\n",
      "| jason_salary_analy            |\n",
      "| jason_salary_analysis         |\n",
      "| jason_salary_analysis2        |\n",
      "| jason_salary_analysis3        |\n",
      "| jason_supermarket             |\n",
      "| jason_travel                  |\n",
      "| jasonsalary                   |\n",
      "| jchen_db                      |\n",
      "| jiadi_db                      |\n",
      "+-------------------------------+--+\n",
      "|         database_name         |\n",
      "+-------------------------------+--+\n",
      "| jingfang_db                   |\n",
      "| jinghan_homework              |\n",
      "| jingnan_db                    |\n",
      "| jingzi_db                     |\n",
      "| jkq_db_test1                  |\n",
      "| jma_db                        |\n",
      "| josh07_db                     |\n",
      "| julia_db                      |\n",
      "| julia_db_123                  |\n",
      "| julia_db_de178                |\n",
      "| julia_db_de182                |\n",
      "| junduo_db                     |\n",
      "| junebabee_db                  |\n",
      "| kris_db                       |\n",
      "| kunchurhivedemo               |\n",
      "| kunwu                         |\n",
      "| lacy_supermarket              |\n",
      "| lacysalary                    |\n",
      "| lantianqhive                  |\n",
      "| lc                            |\n",
      "| liang_db                      |\n",
      "| lihuixin_db                   |\n",
      "| ling_db                       |\n",
      "| lizyang_db                    |\n",
      "| lizzie_db                     |\n",
      "| ljw_db                        |\n",
      "| louisyansaud                  |\n",
      "| lucao_db                      |\n",
      "| lutong_db                     |\n",
      "| lyh_db                        |\n",
      "| marcus_db                     |\n",
      "| mario_db                      |\n",
      "| massdata                      |\n",
      "| meifang_db                    |\n",
      "| mikey_tian                    |\n",
      "| modansalary                   |\n",
      "| modanwan_salary               |\n",
      "| new_nrd                       |\n",
      "| norahivedemo                  |\n",
      "| nrd                           |\n",
      "| nuoyi_db                      |\n",
      "| nuoyul_data                   |\n",
      "| osu_xiao                      |\n",
      "| oyang_db                      |\n",
      "| patrick_db                    |\n",
      "| patrick_hw03                  |\n",
      "| paulkahng                     |\n",
      "| pd_demo_db                    |\n",
      "| pd_hw3_db                     |\n",
      "| peitong_db                    |\n",
      "| ql                            |\n",
      "| ran_salary_analysis           |\n",
      "| randy_db                      |\n",
      "| randy_db_123                  |\n",
      "| rkou_db_123                   |\n",
      "| rui_db                        |\n",
      "| ruili_db                      |\n",
      "| ruoqing_db                    |\n",
      "| ruoqing_stock                 |\n",
      "| rushan_salary_analysis        |\n",
      "| ryhuang_db                    |\n",
      "| ryu_db                        |\n",
      "| salary                        |\n",
      "| salary_analysis               |\n",
      "| salary_analysis2              |\n",
      "| salary_analysis3              |\n",
      "| salary_analytics2             |\n",
      "| salaryanalysis                |\n",
      "| sam                           |\n",
      "| shaomai_db                    |\n",
      "| sherry_db                     |\n",
      "| shimin_db                     |\n",
      "| shiyizhe_salary_analysis      |\n",
      "| shunchao_db                   |\n",
      "| shuyi_supermarket             |\n",
      "| shuyu_test1_db                |\n",
      "| sophiel_nrd                   |\n",
      "| sss_db                        |\n",
      "| stella_xixi                   |\n",
      "| stock                         |\n",
      "| stock_db                      |\n",
      "| stock_jfdb                    |\n",
      "| stock_qc                      |\n",
      "| sz001                         |\n",
      "| sz002                         |\n",
      "| ta_instacart                  |\n",
      "| tanh_db                       |\n",
      "| tarunhivedemo                 |\n",
      "| tata_db                       |\n",
      "| terry_demobd122019            |\n",
      "| test                          |\n",
      "| test1                         |\n",
      "| test123                       |\n",
      "| test_db_123                   |\n",
      "| testdemo                      |\n",
      "| tian_db                       |\n",
      "| tiandan_db                    |\n",
      "| tianyid_db                    |\n",
      "| tongli_db                     |\n",
      "| travel                        |\n",
      "+-------------------------------+--+\n",
      "|         database_name         |\n",
      "+-------------------------------+--+\n",
      "| tree_db_123                   |\n",
      "| trump123                      |\n",
      "| tsinghua                      |\n",
      "| tty_db                        |\n",
      "| txinyi_db                     |\n",
      "| usc_kunchur                   |\n",
      "| uscalafaliq_travel            |\n",
      "| uscanqipan_travel             |\n",
      "| uscaruns_salary_analysis3     |\n",
      "| uscaruns_travel               |\n",
      "| uscashokabh_travel            |\n",
      "| uscbyungjak_travel            |\n",
      "| usccdquinte_travel            |\n",
      "| uscchaparal_travel            |\n",
      "| uscchen731_travel             |\n",
      "| uscchen969_travel             |\n",
      "| uscchinkaih_travel            |\n",
      "| uscchiyichu_travel            |\n",
      "| uscchristcn_travel            |\n",
      "| uscconglinx_travel            |\n",
      "| usceshagpoo_travel            |\n",
      "| uscfeldmanr_travel            |\n",
      "| uscfshao_travel               |\n",
      "| uscgorowara_salary_analysis   |\n",
      "| uscgorowara_travel            |\n",
      "| uscgrovers_travel             |\n",
      "| uscguangjiy_travel            |\n",
      "| uscguting_travel              |\n",
      "| uscgyanprak_travel            |\n",
      "| uschanciwan_travel            |\n",
      "| uschhammad_travel             |\n",
      "| uscikahyaog_travel            |\n",
      "| uscjaeminle_travel            |\n",
      "| uscjain153_travel             |\n",
      "| uscjianyil_travel             |\n",
      "| usckque_travel                |\n",
      "| usckunchur_travel             |\n",
      "| usclantianq_travel            |\n",
      "| uscleixiyua_travel            |\n",
      "| usclinglanm_travel            |\n",
      "| uscliu667_travel              |\n",
      "| uscluoyu_travel               |\n",
      "| uscmavvari_salary_analysis    |\n",
      "| uscmavvari_travel             |\n",
      "| uscmganji_travel              |\n",
      "| uscmodanwan_travel            |\n",
      "| uscmraghava_travel            |\n",
      "| uscmusthofa_travel            |\n",
      "| uscnaiyuanx_travel            |\n",
      "| uscnli357_travel              |\n",
      "| uscoliviahu_travel            |\n",
      "| uscpalande_travel             |\n",
      "| uscpaulkahn_travel            |\n",
      "| uscponiench_travel            |\n",
      "| uscpshankar_travel            |\n",
      "| uscqiaol_travel               |\n",
      "| uscrami359_travel             |\n",
      "| uscruhandon_travel            |\n",
      "| uscruixinwu_travel            |\n",
      "| uscruoxianj_travel            |\n",
      "| uscruoxuwan_travel            |\n",
      "| uscrushanzh_travel            |\n",
      "| uscrxuan_travel               |\n",
      "| uscshanjiaj_travel            |\n",
      "| uscshar198_travel             |\n",
      "| uscshi670_travel              |\n",
      "| uscshihualu_travel            |\n",
      "| uscshiwenxu_travel            |\n",
      "| uscshiyizhe_travel            |\n",
      "| uscshuxiaoz_travel            |\n",
      "| uscshuyitao_travel            |\n",
      "| uscsiyaohu_travel             |\n",
      "| usctang545_travel             |\n",
      "| usctianqihe_travel            |\n",
      "| usctongxie_travel             |\n",
      "| usctzuyihua_travel            |\n",
      "| uscwangziji_travel            |\n",
      "| uscwenzhen_travel             |\n",
      "| uscxduo_travel                |\n",
      "| uscxiaoqiuy_travel            |\n",
      "| uscxiaoxuan_travel            |\n",
      "| uscxingjian_travel            |\n",
      "| uscxinyuec_travel             |\n",
      "| uscxiwenche_travel            |\n",
      "| uscxiyuan_travel              |\n",
      "| uscxudongz_travel             |\n",
      "| uscxuewenlu_travel            |\n",
      "| uscyansaud_travel             |\n",
      "| uscygui_travel                |\n",
      "| uscyingzhaz_travel            |\n",
      "| uscyiqiongz_travel            |\n",
      "| uscyoungenc_travel            |\n",
      "| uscyufeiw_travel              |\n",
      "| uscyufu_travel                |\n",
      "| uscywu882_travel              |\n",
      "| usczhan577_travel             |\n",
      "| usczhaowent_travel            |\n",
      "| usczhengliz_salary_analysis   |\n",
      "| usczhengliz_salary_analysis3  |\n",
      "| usczhengliz_travel            |\n",
      "+-------------------------------+--+\n",
      "|         database_name         |\n",
      "+-------------------------------+--+\n",
      "| usczhumingw_travel            |\n",
      "| usczhuolino_travel            |\n",
      "| usczhuoquns_travel            |\n",
      "| usczihaogen_travel            |\n",
      "| usczimengca_travel            |\n",
      "| wenbom_db                     |\n",
      "| wenboma_db                    |\n",
      "| wenboma_nrd                   |\n",
      "| wentaodb                      |\n",
      "| weny_123                      |\n",
      "| wenyue_db                     |\n",
      "| wenyuew_db                    |\n",
      "| woolf                         |\n",
      "| wyw_db                        |\n",
      "| xd_salary_analysis            |\n",
      "| xd_salary_analysis2           |\n",
      "| xiangyu_db                    |\n",
      "| xiaokang_db                   |\n",
      "| xiaoxiachampon_demo           |\n",
      "| xiaoyi571                     |\n",
      "| xiaoyuez_stock0428            |\n",
      "| xinyi_db                      |\n",
      "| xinyue_db                     |\n",
      "| xqj_db                        |\n",
      "| xtralz_nrd                    |\n",
      "| xtralz_spark                  |\n",
      "| xuewenlu_db                   |\n",
      "| xwl                           |\n",
      "| yakan_salary_analysis         |\n",
      "| yangguo_db                    |\n",
      "| yimingl_db                    |\n",
      "| yingc_db                      |\n",
      "| yingjie_db                    |\n",
      "| yingjie_db_123                |\n",
      "| yinglong_db                   |\n",
      "| yinxiao_db                    |\n",
      "| yinzhuo_db                    |\n",
      "| yiyu                          |\n",
      "| yiyu_db                       |\n",
      "| yongtian_db                   |\n",
      "| yongzstock_db                 |\n",
      "| yourusename_travel            |\n",
      "| yuanli_db                     |\n",
      "| yuanli_db_123                 |\n",
      "| yue_1_db                      |\n",
      "| yue_hive_hw1                  |\n",
      "| yuel_db                       |\n",
      "| yufei_db                      |\n",
      "| yunmiao_db                    |\n",
      "| yuzi_db                       |\n",
      "| yuzi_hw                       |\n",
      "| yx_db                         |\n",
      "| yx_db_123                     |\n",
      "| yxu_db                        |\n",
      "| zdm_db                        |\n",
      "| zepeng_db                     |\n",
      "| zfrank                        |\n",
      "| zhangpuhan_db                 |\n",
      "| zhaozhen_db                   |\n",
      "| zheng_db                      |\n",
      "| zhuzi_db                      |\n",
      "| zhyi_db                       |\n",
      "| zhyi_db_001                   |\n",
      "| zhyi_db_star                  |\n",
      "| zhyi_db_titanic               |\n",
      "| zishuo_demodb                 |\n",
      "| zs_db                         |\n",
      "| zy_db                         |\n",
      "| zyang_db                      |\n",
      "| zzlsalary                     |\n",
      "| zzznewdb                      |\n",
      "| zzzzfrankdb                   |\n",
      "+-------------------------------+--+\n"
     ]
    }
   ],
   "source": [
    "beeline -u jdbc:hive2://m3.mt.dataapplab.com:10000/default -n dcdsdepeizhang -w hive-beeline.key --silent=true -e \"show databases;\""
   ]
  },
  {
   "cell_type": "code",
   "execution_count": 7,
   "metadata": {},
   "outputs": [
    {
     "name": "stdout",
     "output_type": "stream",
     "text": [
      "[ssh] host = montana.dataapplab.com, cwd = /home/dcdsdepeizhang/demo\n",
      "+-----------+--+\n",
      "| tab_name  |\n",
      "+-----------+--+\n",
      "| salary    |\n",
      "+-----------+--+\n"
     ]
    }
   ],
   "source": [
    "beeline -u jdbc:hive2://m3.mt.dataapplab.com:10000/default -n dcdsdepeizhang -w hive-beeline.key --silent=true -e \"use jasonsalary; show tables;\""
   ]
  },
  {
   "cell_type": "code",
   "execution_count": 8,
   "metadata": {},
   "outputs": [
    {
     "name": "stdout",
     "output_type": "stream",
     "text": [
      "[ssh] host = montana.dataapplab.com, cwd = /home/dcdsdepeizhang/demo\n",
      "+--------------+------------+----------+--+\n",
      "|   col_name   | data_type  | comment  |\n",
      "+--------------+------------+----------+--+\n",
      "| code         | string     |          |\n",
      "| description  | string     |          |\n",
      "| total_emp    | int        |          |\n",
      "| salary       | int        |          |\n",
      "+--------------+------------+----------+--+\n"
     ]
    }
   ],
   "source": [
    "beeline -u jdbc:hive2://m3.mt.dataapplab.com:10000/default -n dcdsdepeizhang -w hive-beeline.key --silent=true -e \"use jasonsalary; describe salary;\""
   ]
  },
  {
   "cell_type": "code",
   "execution_count": 9,
   "metadata": {},
   "outputs": [
    {
     "name": "stdout",
     "output_type": "stream",
     "text": [
      "[ssh] host = montana.dataapplab.com, cwd = /home/dcdsdepeizhang/demo\n",
      "+--------+--+\n",
      "| count  |\n",
      "+--------+--+\n",
      "| 1646   |\n",
      "+--------+--+\n"
     ]
    }
   ],
   "source": [
    "beeline -u jdbc:hive2://m3.mt.dataapplab.com:10000/default -n dcdsdepeizhang -w hive-beeline.key --silent=true -e \"use jasonsalary; select count(*) as count from salary;\""
   ]
  },
  {
   "cell_type": "code",
   "execution_count": 10,
   "metadata": {},
   "outputs": [
    {
     "name": "stdout",
     "output_type": "stream",
     "text": [
      "[ssh] host = montana.dataapplab.com, cwd = /home/dcdsdepeizhang/demo\n",
      "+--------------+--------------------------------------+-------------------+----------------+--+\n",
      "| salary.code  |          salary.description          | salary.total_emp  | salary.salary  |\n",
      "+--------------+--------------------------------------+-------------------+----------------+--+\n",
      "| 00-0000      | All Occupations                      | 135185230         | 42270          |\n",
      "| 11-0000      | Management occupations               | 6152650           | 100310         |\n",
      "| 11-1011      | Chief executives                     | 301930            | 160440         |\n",
      "| 11-1021      | General and operations managers      | 1697690           | 107970         |\n",
      "| 11-1031      | Legislators                          | 64650             | 37980          |\n",
      "| 11-2011      | Advertising and promotions managers  | 36100             | 94720          |\n",
      "| 11-2021      | Marketing managers                   | 166790            | 118160         |\n",
      "| 11-2022      | Sales managers                       | 333910            | 110390         |\n",
      "| 11-2031      | Public relations managers            | 51730             | 101220         |\n",
      "| 11-3011      | Administrative services managers     | 246930            | 79500          |\n",
      "+--------------+--------------------------------------+-------------------+----------------+--+\n"
     ]
    }
   ],
   "source": [
    "beeline -u jdbc:hive2://m3.mt.dataapplab.com:10000/default -n dcdsdepeizhang -w hive-beeline.key --silent=true -e \"use jasonsalary; select * from salary limit 10;\""
   ]
  },
  {
   "cell_type": "code",
   "execution_count": 11,
   "metadata": {},
   "outputs": [
    {
     "name": "stdout",
     "output_type": "stream",
     "text": [
      "[ssh] host = montana.dataapplab.com, cwd = /home/dcdsdepeizhang/demo\n"
     ]
    }
   ],
   "source": [
    "beeline -u jdbc:hive2://m3.mt.dataapplab.com:10000/default -n dcdsdepeizhang -w hive-beeline.key --silent=true -e \"use jasonsalary; select * from salary limit 100;\" --outputformat=csv > hive-beeline.csv"
   ]
  },
  {
   "cell_type": "code",
   "execution_count": 12,
   "metadata": {},
   "outputs": [
    {
     "name": "stdout",
     "output_type": "stream",
     "text": [
      "[ssh] host = montana.dataapplab.com, cwd = /home/dcdsdepeizhang/demo\n",
      "total 48\n",
      "-rw-r--r--. 1 dcdsdepeizhang student   732 Jul 29 23:04 derby.log\n",
      "-rw-r--r--. 1 dcdsdepeizhang student 15609 Aug  3 23:20 hive-beeline.csv\n",
      "-rw-r--r--. 1 dcdsdepeizhang student     9 Aug  3 21:17 hive-beeline.key\n",
      "-rw-r--r--. 1 dcdsdepeizhang student   266 Aug  3 23:15 hive.sql\n",
      "drwxr-xr-x. 2 dcdsdepeizhang student  4096 Jul 30 23:09 MapReduce\n",
      "-rw-r--r--. 1 dcdsdepeizhang student  1683 Jul 29 23:04 spark-graphx.py\n",
      "-rw-r--r--. 1 dcdsdepeizhang student   732 Jul 30 21:01 spark-mllib.py\n",
      "-rw-r--r--. 1 dcdsdepeizhang student  1232 Jul 30 21:30 spark-sql.py\n",
      "drwxr-xr-x. 2 dcdsdepeizhang student  4096 Jul 29 22:40 spark-warehouse\n"
     ]
    }
   ],
   "source": [
    "ls -l"
   ]
  },
  {
   "cell_type": "code",
   "execution_count": 13,
   "metadata": {},
   "outputs": [
    {
     "name": "stdout",
     "output_type": "stream",
     "text": [
      "[ssh] host = montana.dataapplab.com, cwd = /home/dcdsdepeizhang/demo\n",
      "+--------------+-----------------------------------------------------------------------------------------------+-------------------+----------------+--+\n",
      "| salary.code  |                                      salary.description                                       | salary.total_emp  | salary.salary  |\n",
      "+--------------+-----------------------------------------------------------------------------------------------+-------------------+----------------+--+\n",
      "| 00-0000      | All Occupations                                                                               | 135185230         | 42270          |\n",
      "| 11-0000      | Management occupations                                                                        | 6152650           | 100310         |\n",
      "| 11-1011      | Chief executives                                                                              | 301930            | 160440         |\n",
      "| 11-1021      | General and operations managers                                                               | 1697690           | 107970         |\n",
      "| 11-1031      | Legislators                                                                                   | 64650             | 37980          |\n",
      "| 11-2011      | Advertising and promotions managers                                                           | 36100             | 94720          |\n",
      "| 11-2021      | Marketing managers                                                                            | 166790            | 118160         |\n"
     ]
    }
   ],
   "source": [
    "head -10 hive-beeline.csv"
   ]
  },
  {
   "cell_type": "markdown",
   "metadata": {},
   "source": [
    "## 2. SQL Query with Hive CLI"
   ]
  },
  {
   "cell_type": "code",
   "execution_count": 14,
   "metadata": {},
   "outputs": [
    {
     "name": "stdout",
     "output_type": "stream",
     "text": [
      "[ssh] host = montana.dataapplab.com, cwd = /home/dcdsdepeizhang/demo\n",
      "aadsxuhan_db\n",
      "acdelingz_db_123\n",
      "acdeshaowu_db\n",
      "aedsdavidh_db\n",
      "aedsjasonc_db\n",
      "aedsjiaxuf_db\n",
      "aedsjinyul_db\n",
      "aedsxiaofeiz_db\n",
      "aedsyingc_db\n",
      "aedsyongz_db\n",
      "aedsyuxint_db\n",
      "afaye_db\n",
      "afdebjfengye1_db\n",
      "afdebjfengye_db\n",
      "afdsbjxiaokang\n",
      "agdsbings_db\n",
      "agdslex_db\n",
      "agdsx\n",
      "aisrexit\n",
      "akdszhiyuanc_db\n",
      "alafaliq_travel\n",
      "alex_db\n",
      "alex_demo\n",
      "alick_db\n",
      "allen_db\n",
      "angelapper_db\n",
      "angli_ab\n",
      "anzong_db\n",
      "badskunqiangj_db_123\n",
      "bhdsyunyuh_db\n",
      "bhdsyunyuh_db_123\n",
      "binghuan_db\n",
      "binghuan_stock_db\n",
      "binghuan_stock_db_oct_9_17\n",
      "binwen_x_nrd\n",
      "bjdssherryz_db\n",
      "bjmaomao_db\n",
      "cadsqiangt_test\n",
      "chen_db\n",
      "chen_test\n",
      "chenguang_ta\n",
      "chenwei_db\n",
      "chenyang_db\n",
      "chi\n",
      "chi_db\n",
      "chloe_demodb\n",
      "chris\n",
      "chubing_db_123\n",
      "claire0317\n",
      "claire0317_db\n",
      "clark_db\n",
      "cn_db_123\n",
      "cn_hive2_db\n",
      "creditcard\n",
      "cyw_db\n",
      "danielle_danyang\n",
      "danielle_db\n",
      "datengl_db\n",
      "datenglstock_db\n",
      "db_jesseqz\n",
      "dcdsdepeizhang_demodb\n",
      "ddd\n",
      "default\n",
      "derek_db\n",
      "derek_db_123\n",
      "dexin_db\n",
      "dhu_db\n",
      "dinglele_db\n",
      "dummy_123\n",
      "empdb\n",
      "ethan\n",
      "fake_db\n",
      "fan\n",
      "faye_db\n",
      "frank_hw4\n",
      "frankj_db\n",
      "frankz_db\n",
      "greg_db\n",
      "guan_db\n",
      "guolin_db\n",
      "hanying\n",
      "hanying_db\n",
      "haoli_demodb042020\n",
      "heyang\n",
      "hongzhao_db\n",
      "huimin_db\n",
      "huimin_homework\n",
      "hw3_db\n",
      "hw7\n",
      "jane_db_0311\n",
      "jason_demodb032019\n",
      "jason_salary_analy\n",
      "jason_salary_analysis\n",
      "jason_salary_analysis2\n",
      "jason_salary_analysis3\n",
      "jason_supermarket\n",
      "jason_travel\n",
      "jasonsalary\n",
      "jchen_db\n",
      "jiadi_db\n",
      "jingfang_db\n",
      "jinghan_homework\n",
      "jingnan_db\n",
      "jingzi_db\n",
      "jkq_db_test1\n",
      "jma_db\n",
      "josh07_db\n",
      "julia_db\n",
      "julia_db_123\n",
      "julia_db_de178\n",
      "julia_db_de182\n",
      "junduo_db\n",
      "junebabee_db\n",
      "kris_db\n",
      "kunchurhivedemo\n",
      "kunwu\n",
      "lacy_supermarket\n",
      "lacysalary\n",
      "lantianqhive\n",
      "lc\n",
      "liang_db\n",
      "lihuixin_db\n",
      "ling_db\n",
      "lizyang_db\n",
      "lizzie_db\n",
      "ljw_db\n",
      "louisyansaud\n",
      "lucao_db\n",
      "lutong_db\n",
      "lyh_db\n",
      "marcus_db\n",
      "mario_db\n",
      "massdata\n",
      "meifang_db\n",
      "mikey_tian\n",
      "modansalary\n",
      "modanwan_salary\n",
      "new_nrd\n",
      "norahivedemo\n",
      "nrd\n",
      "nuoyi_db\n",
      "nuoyul_data\n",
      "osu_xiao\n",
      "oyang_db\n",
      "patrick_db\n",
      "patrick_hw03\n",
      "paulkahng\n",
      "pd_demo_db\n",
      "pd_hw3_db\n",
      "peitong_db\n",
      "ql\n",
      "ran_salary_analysis\n",
      "randy_db\n",
      "randy_db_123\n",
      "rkou_db_123\n",
      "rui_db\n",
      "ruili_db\n",
      "ruoqing_db\n",
      "ruoqing_stock\n",
      "rushan_salary_analysis\n",
      "ryhuang_db\n",
      "ryu_db\n",
      "salary\n",
      "salary_analysis\n",
      "salary_analysis2\n",
      "salary_analysis3\n",
      "salary_analytics2\n",
      "salaryanalysis\n",
      "sam\n",
      "shaomai_db\n",
      "sherry_db\n",
      "shimin_db\n",
      "shiyizhe_salary_analysis\n",
      "shunchao_db\n",
      "shuyi_supermarket\n",
      "shuyu_test1_db\n",
      "sophiel_nrd\n",
      "sss_db\n",
      "stella_xixi\n",
      "stock\n",
      "stock_db\n",
      "stock_jfdb\n",
      "stock_qc\n",
      "sz001\n",
      "sz002\n",
      "ta_instacart\n",
      "tanh_db\n",
      "tarunhivedemo\n",
      "tata_db\n",
      "terry_demobd122019\n",
      "test\n",
      "test1\n",
      "test123\n",
      "test_db_123\n",
      "testdemo\n",
      "tian_db\n",
      "tiandan_db\n",
      "tianyid_db\n",
      "tongli_db\n",
      "travel\n",
      "tree_db_123\n",
      "trump123\n",
      "tsinghua\n",
      "tty_db\n",
      "txinyi_db\n",
      "usc_kunchur\n",
      "uscalafaliq_travel\n",
      "uscanqipan_travel\n",
      "uscaruns_salary_analysis3\n",
      "uscaruns_travel\n",
      "uscashokabh_travel\n",
      "uscbyungjak_travel\n",
      "usccdquinte_travel\n",
      "uscchaparal_travel\n",
      "uscchen731_travel\n",
      "uscchen969_travel\n",
      "uscchinkaih_travel\n",
      "uscchiyichu_travel\n",
      "uscchristcn_travel\n",
      "uscconglinx_travel\n",
      "usceshagpoo_travel\n",
      "uscfeldmanr_travel\n",
      "uscfshao_travel\n",
      "uscgorowara_salary_analysis\n",
      "uscgorowara_travel\n",
      "uscgrovers_travel\n",
      "uscguangjiy_travel\n",
      "uscguting_travel\n",
      "uscgyanprak_travel\n",
      "uschanciwan_travel\n",
      "uschhammad_travel\n",
      "uscikahyaog_travel\n",
      "uscjaeminle_travel\n",
      "uscjain153_travel\n",
      "uscjianyil_travel\n",
      "usckque_travel\n",
      "usckunchur_travel\n",
      "usclantianq_travel\n",
      "uscleixiyua_travel\n",
      "usclinglanm_travel\n",
      "uscliu667_travel\n",
      "uscluoyu_travel\n",
      "uscmavvari_salary_analysis\n",
      "uscmavvari_travel\n",
      "uscmganji_travel\n",
      "uscmodanwan_travel\n",
      "uscmraghava_travel\n",
      "uscmusthofa_travel\n",
      "uscnaiyuanx_travel\n",
      "uscnli357_travel\n",
      "uscoliviahu_travel\n",
      "uscpalande_travel\n",
      "uscpaulkahn_travel\n",
      "uscponiench_travel\n",
      "uscpshankar_travel\n",
      "uscqiaol_travel\n",
      "uscrami359_travel\n",
      "uscruhandon_travel\n",
      "uscruixinwu_travel\n",
      "uscruoxianj_travel\n",
      "uscruoxuwan_travel\n",
      "uscrushanzh_travel\n",
      "uscrxuan_travel\n",
      "uscshanjiaj_travel\n",
      "uscshar198_travel\n",
      "uscshi670_travel\n",
      "uscshihualu_travel\n",
      "uscshiwenxu_travel\n",
      "uscshiyizhe_travel\n",
      "uscshuxiaoz_travel\n",
      "uscshuyitao_travel\n",
      "uscsiyaohu_travel\n",
      "usctang545_travel\n",
      "usctianqihe_travel\n",
      "usctongxie_travel\n",
      "usctzuyihua_travel\n",
      "uscwangziji_travel\n",
      "uscwenzhen_travel\n",
      "uscxduo_travel\n",
      "uscxiaoqiuy_travel\n",
      "uscxiaoxuan_travel\n",
      "uscxingjian_travel\n",
      "uscxinyuec_travel\n",
      "uscxiwenche_travel\n",
      "uscxiyuan_travel\n",
      "uscxudongz_travel\n",
      "uscxuewenlu_travel\n",
      "uscyansaud_travel\n",
      "uscygui_travel\n",
      "uscyingzhaz_travel\n",
      "uscyiqiongz_travel\n",
      "uscyoungenc_travel\n",
      "uscyufeiw_travel\n",
      "uscyufu_travel\n",
      "uscywu882_travel\n",
      "usczhan577_travel\n",
      "usczhaowent_travel\n",
      "usczhengliz_salary_analysis\n",
      "usczhengliz_salary_analysis3\n",
      "usczhengliz_travel\n",
      "usczhumingw_travel\n",
      "usczhuolino_travel\n",
      "usczhuoquns_travel\n",
      "usczihaogen_travel\n",
      "usczimengca_travel\n",
      "wenbom_db\n",
      "wenboma_db\n",
      "wenboma_nrd\n",
      "wentaodb\n",
      "weny_123\n",
      "wenyue_db\n",
      "wenyuew_db\n",
      "woolf\n",
      "wyw_db\n",
      "xd_salary_analysis\n",
      "xd_salary_analysis2\n",
      "xiangyu_db\n",
      "xiaokang_db\n",
      "xiaoxiachampon_demo\n",
      "xiaoyi571\n",
      "xiaoyuez_stock0428\n",
      "xinyi_db\n",
      "xinyue_db\n",
      "xqj_db\n",
      "xtralz_nrd\n",
      "xtralz_spark\n",
      "xuewenlu_db\n",
      "xwl\n",
      "yakan_salary_analysis\n",
      "yangguo_db\n",
      "yimingl_db\n",
      "yingc_db\n",
      "yingjie_db\n",
      "yingjie_db_123\n",
      "yinglong_db\n",
      "yinxiao_db\n",
      "yinzhuo_db\n",
      "yiyu\n",
      "yiyu_db\n",
      "yongtian_db\n",
      "yongzstock_db\n",
      "yourusename_travel\n",
      "yuanli_db\n",
      "yuanli_db_123\n",
      "yue_1_db\n",
      "yue_hive_hw1\n",
      "yuel_db\n",
      "yufei_db\n",
      "yunmiao_db\n",
      "yuzi_db\n",
      "yuzi_hw\n",
      "yx_db\n",
      "yx_db_123\n",
      "yxu_db\n",
      "zdm_db\n",
      "zepeng_db\n",
      "zfrank\n",
      "zhangpuhan_db\n",
      "zhaozhen_db\n",
      "zheng_db\n",
      "zhuzi_db\n",
      "zhyi_db\n",
      "zhyi_db_001\n",
      "zhyi_db_star\n",
      "zhyi_db_titanic\n",
      "zishuo_demodb\n",
      "zs_db\n",
      "zy_db\n",
      "zyang_db\n",
      "zzlsalary\n",
      "zzznewdb\n",
      "zzzzfrankdb\n"
     ]
    }
   ],
   "source": [
    "hive -S -e \"show databases;\""
   ]
  },
  {
   "cell_type": "code",
   "execution_count": 15,
   "metadata": {},
   "outputs": [
    {
     "name": "stdout",
     "output_type": "stream",
     "text": [
      "[ssh] host = montana.dataapplab.com, cwd = /home/dcdsdepeizhang/demo\n",
      "aisle\n",
      "department\n",
      "order_product\n",
      "orders\n",
      "product\n"
     ]
    }
   ],
   "source": [
    "hive -S -e \"use jason_supermarket; show tables;\""
   ]
  },
  {
   "cell_type": "code",
   "execution_count": 16,
   "metadata": {},
   "outputs": [
    {
     "name": "stdout",
     "output_type": "stream",
     "text": [
      "[ssh] host = montana.dataapplab.com, cwd = /home/dcdsdepeizhang/demo\n",
      "id                  \tint                 \t                    \n",
      "user_id             \tint                 \t                    \n",
      "eval_set            \tstring              \t                    \n",
      "order_number        \tint                 \t                    \n",
      "order_dow           \tint                 \t                    \n",
      "order_hour_of_day   \tint                 \t                    \n",
      "days_since_prior_order\tint                 \t                    \n"
     ]
    }
   ],
   "source": [
    "hive -S -e \"use jason_supermarket; describe orders;\""
   ]
  },
  {
   "cell_type": "code",
   "execution_count": 17,
   "metadata": {},
   "outputs": [
    {
     "name": "stdout",
     "output_type": "stream",
     "text": [
      "[ssh] host = montana.dataapplab.com, cwd = /home/dcdsdepeizhang/demo\n",
      "3421084\n"
     ]
    }
   ],
   "source": [
    "hive -S -e \"use jason_supermarket; select count(*) as count from orders;\""
   ]
  },
  {
   "cell_type": "code",
   "execution_count": 18,
   "metadata": {},
   "outputs": [
    {
     "name": "stdout",
     "output_type": "stream",
     "text": [
      "[ssh] host = montana.dataapplab.com, cwd = /home/dcdsdepeizhang/demo\n",
      "NULL\tNULL\teval_set\tNULL\tNULL\tNULL\tNULL\n",
      "2539329\t1\tprior\t1\t2\t8\tNULL\n",
      "2398795\t1\tprior\t2\t3\t7\t15\n",
      "473747\t1\tprior\t3\t3\t12\t21\n",
      "2254736\t1\tprior\t4\t4\t7\t29\n",
      "431534\t1\tprior\t5\t4\t15\t28\n",
      "3367565\t1\tprior\t6\t2\t7\t19\n",
      "550135\t1\tprior\t7\t1\t9\t20\n",
      "3108588\t1\tprior\t8\t1\t14\t14\n",
      "2295261\t1\tprior\t9\t1\t16\t0\n"
     ]
    }
   ],
   "source": [
    "hive -S -e \"use jason_supermarket; select * from orders limit 10;\""
   ]
  },
  {
   "cell_type": "code",
   "execution_count": 19,
   "metadata": {},
   "outputs": [
    {
     "name": "stdout",
     "output_type": "stream",
     "text": [
      "[ssh] host = montana.dataapplab.com, cwd = /home/dcdsdepeizhang/demo\n",
      "Found 5 items\n",
      "drwxr-xr-x   - jason superta          0 2018-02-17 21:03 hdfs:///user/jason/hivedemo/supermarket/aisle\n",
      "drwxr-xr-x   - jason superta          0 2018-02-17 21:03 hdfs:///user/jason/hivedemo/supermarket/department\n",
      "drwxr-xr-x   - jason superta          0 2018-02-17 21:04 hdfs:///user/jason/hivedemo/supermarket/order\n",
      "drwxr-xr-x   - jason superta          0 2018-02-17 21:05 hdfs:///user/jason/hivedemo/supermarket/order_product\n",
      "drwxr-xr-x   - jason superta          0 2018-02-17 21:05 hdfs:///user/jason/hivedemo/supermarket/product\n"
     ]
    }
   ],
   "source": [
    "hdfs dfs -ls hdfs:///user/jason/hivedemo/supermarket/"
   ]
  },
  {
   "cell_type": "code",
   "execution_count": 20,
   "metadata": {},
   "outputs": [
    {
     "name": "stdout",
     "output_type": "stream",
     "text": [
      "[ssh] host = montana.dataapplab.com, cwd = /home/dcdsdepeizhang/demo\n",
      "Found 1 items\n",
      "-rwxr-xr-x   3 jason superta  108968645 2018-02-17 21:04 hdfs:///user/jason/hivedemo/supermarket/order/orders.csv\n"
     ]
    }
   ],
   "source": [
    "hdfs dfs -ls hdfs:///user/jason/hivedemo/supermarket/order/"
   ]
  },
  {
   "cell_type": "markdown",
   "metadata": {},
   "source": [
    "## 3. Create Database & Table with Hive CLI"
   ]
  },
  {
   "cell_type": "code",
   "execution_count": 21,
   "metadata": {},
   "outputs": [
    {
     "name": "stdout",
     "output_type": "stream",
     "text": [
      "[ssh] host = montana.dataapplab.com, cwd = /home/dcdsdepeizhang/demo\n"
     ]
    }
   ],
   "source": [
    "hive -S -e \"drop database if exists dcdsdepeizhang_demodb cascade;\""
   ]
  },
  {
   "cell_type": "code",
   "execution_count": 22,
   "metadata": {},
   "outputs": [
    {
     "name": "stdout",
     "output_type": "stream",
     "text": [
      "[ssh] host = montana.dataapplab.com, cwd = /home/dcdsdepeizhang/demo\n"
     ]
    }
   ],
   "source": [
    "hive -S -e \"create database dcdsdepeizhang_demodb location 'hdfs:///user/dcdsdepeizhang/hivedemo/demodb/';\""
   ]
  },
  {
   "cell_type": "code",
   "execution_count": 23,
   "metadata": {},
   "outputs": [
    {
     "name": "stdout",
     "output_type": "stream",
     "text": [
      "[ssh] host = montana.dataapplab.com, cwd = /home/dcdsdepeizhang/demo\n",
      "Found 1 items\n",
      "drwxr-xr-x   - dcdsdepeizhang student          0 2020-08-03 23:23 hdfs:///user/dcdsdepeizhang/hivedemo/demodb\n"
     ]
    }
   ],
   "source": [
    "hdfs dfs -ls hdfs:///user/dcdsdepeizhang/hivedemo/"
   ]
  },
  {
   "cell_type": "code",
   "execution_count": 24,
   "metadata": {},
   "outputs": [
    {
     "name": "stdout",
     "output_type": "stream",
     "text": [
      "[ssh] host = montana.dataapplab.com, cwd = /home/dcdsdepeizhang/demo\n"
     ]
    }
   ],
   "source": [
    "cat << EOF > hive.sql\n",
    "create external table dcdsdepeizhang_demodb.salary(\n",
    "code        string,\n",
    "description string,\n",
    "total_emp   int,\n",
    "salary      int)\n",
    "partitioned by (year string)\n",
    "row format delimited\n",
    "fields terminated by '\\t'\n",
    "location 'hdfs:///user/dcdsdepeizhang/hivedemo/demodb/salary/';\n",
    "EOF\n",
    "\n",
    "hive -S -f hive.sql"
   ]
  },
  {
   "cell_type": "code",
   "execution_count": 25,
   "metadata": {},
   "outputs": [
    {
     "name": "stdout",
     "output_type": "stream",
     "text": [
      "[ssh] host = montana.dataapplab.com, cwd = /home/dcdsdepeizhang/demo\n",
      "Found 1 items\n",
      "drwxr-xr-x   - dcdsdepeizhang student          0 2020-08-03 23:24 hdfs:///user/dcdsdepeizhang/hivedemo/demodb/salary\n"
     ]
    }
   ],
   "source": [
    "hdfs dfs -ls hdfs:///user/dcdsdepeizhang/hivedemo/demodb/"
   ]
  },
  {
   "cell_type": "code",
   "execution_count": 26,
   "metadata": {},
   "outputs": [
    {
     "name": "stdout",
     "output_type": "stream",
     "text": [
      "[ssh] host = montana.dataapplab.com, cwd = /home/dcdsdepeizhang/demo\n",
      "salary\n"
     ]
    }
   ],
   "source": [
    "hive -S -e \"use dcdsdepeizhang_demodb; show tables;\""
   ]
  },
  {
   "cell_type": "code",
   "execution_count": 27,
   "metadata": {},
   "outputs": [
    {
     "name": "stdout",
     "output_type": "stream",
     "text": [
      "[ssh] host = montana.dataapplab.com, cwd = /home/dcdsdepeizhang/demo\n",
      "code                \tstring              \t                    \n",
      "description         \tstring              \t                    \n",
      "total_emp           \tint                 \t                    \n",
      "salary              \tint                 \t                    \n",
      "year                \tstring              \t                    \n",
      "\t \t \n",
      "# Partition Information\t \t \n",
      "# col_name            \tdata_type           \tcomment             \n",
      "\t \t \n",
      "year                \tstring              \t                    \n"
     ]
    }
   ],
   "source": [
    "hive -S -e \"use dcdsdepeizhang_demodb; describe salary;\""
   ]
  },
  {
   "cell_type": "code",
   "execution_count": 28,
   "metadata": {},
   "outputs": [
    {
     "name": "stdout",
     "output_type": "stream",
     "text": [
      "[ssh] host = montana.dataapplab.com, cwd = /home/dcdsdepeizhang/demo\n"
     ]
    }
   ],
   "source": [
    "hive -S -e \"alter table dcdsdepeizhang_demodb.salary add if not exists partition (year='07') location 'hdfs:///user/dcdsdepeizhang/hivedemo/demodb/salary/sample_07';\"\n",
    "hive -S -e \"alter table dcdsdepeizhang_demodb.salary add if not exists partition (year='08') location 'hdfs:///user/dcdsdepeizhang/hivedemo/demodb/salary/sample_08';\""
   ]
  },
  {
   "cell_type": "code",
   "execution_count": 29,
   "metadata": {},
   "outputs": [
    {
     "name": "stdout",
     "output_type": "stream",
     "text": [
      "[ssh] host = montana.dataapplab.com, cwd = /home/dcdsdepeizhang/demo\n",
      "# col_name            \tdata_type           \tcomment             \n",
      "\t \t \n",
      "code                \tstring              \t                    \n",
      "description         \tstring              \t                    \n",
      "total_emp           \tint                 \t                    \n",
      "salary              \tint                 \t                    \n",
      "\t \t \n",
      "# Partition Information\t \t \n",
      "# col_name            \tdata_type           \tcomment             \n",
      "\t \t \n",
      "year                \tstring              \t                    \n",
      "\t \t \n",
      "# Detailed Table Information\t \t \n",
      "Database:           \tdcdsdepeizhang_demodb\t \n",
      "Owner:              \tdcdsdepeizhang      \t \n",
      "CreateTime:         \tMon Aug 03 23:24:06 PDT 2020\t \n",
      "LastAccessTime:     \tUNKNOWN             \t \n",
      "Protect Mode:       \tNone                \t \n",
      "Retention:          \t0                   \t \n",
      "Location:           \thdfs://m1.mt.dataapplab.com:8020/user/dcdsdepeizhang/hivedemo/demodb/salary\t \n",
      "Table Type:         \tEXTERNAL_TABLE      \t \n",
      "Table Parameters:\t \t \n",
      "\tEXTERNAL            \tTRUE                \n",
      "\ttransient_lastDdlTime\t1596522246          \n",
      "\t \t \n",
      "# Storage Information\t \t \n",
      "SerDe Library:      \torg.apache.hadoop.hive.serde2.lazy.LazySimpleSerDe\t \n",
      "InputFormat:        \torg.apache.hadoop.mapred.TextInputFormat\t \n",
      "OutputFormat:       \torg.apache.hadoop.hive.ql.io.HiveIgnoreKeyTextOutputFormat\t \n",
      "Compressed:         \tNo                  \t \n",
      "Num Buckets:        \t-1                  \t \n",
      "Bucket Columns:     \t[]                  \t \n",
      "Sort Columns:       \t[]                  \t \n",
      "Storage Desc Params:\t \t \n",
      "\tfield.delim         \t\\t                  \n",
      "\tserialization.format\t\\t                  \n"
     ]
    }
   ],
   "source": [
    "hive -S -e \"desc formatted dcdsdepeizhang_demodb.salary;\""
   ]
  },
  {
   "cell_type": "code",
   "execution_count": 30,
   "metadata": {},
   "outputs": [
    {
     "name": "stdout",
     "output_type": "stream",
     "text": [
      "[ssh] host = montana.dataapplab.com, cwd = /home/dcdsdepeizhang/demo\n",
      "year=07\n",
      "year=08\n"
     ]
    }
   ],
   "source": [
    "hive -S -e \"show partitions dcdsdepeizhang_demodb.salary;\""
   ]
  },
  {
   "cell_type": "code",
   "execution_count": 31,
   "metadata": {},
   "outputs": [
    {
     "name": "stdout",
     "output_type": "stream",
     "text": [
      "[ssh] host = montana.dataapplab.com, cwd = /home/dcdsdepeizhang/demo\n",
      "Found 2 items\n",
      "drwxr-xr-x   - dcdsdepeizhang student          0 2020-08-03 23:25 hdfs:///user/dcdsdepeizhang/hivedemo/demodb/salary/sample_07\n",
      "drwxr-xr-x   - dcdsdepeizhang student          0 2020-08-03 23:25 hdfs:///user/dcdsdepeizhang/hivedemo/demodb/salary/sample_08\n"
     ]
    }
   ],
   "source": [
    "hdfs dfs -ls hdfs:///user/dcdsdepeizhang/hivedemo/demodb/salary/"
   ]
  },
  {
   "cell_type": "code",
   "execution_count": 32,
   "metadata": {},
   "outputs": [
    {
     "name": "stdout",
     "output_type": "stream",
     "text": [
      "[ssh] host = montana.dataapplab.com, cwd = /home/dcdsdepeizhang/demo\n"
     ]
    }
   ],
   "source": [
    "hdfs dfs -cp hdfs:///user/jason/hivedemo/salary_analysis/salary_all/sample_07.tsv hdfs:///user/dcdsdepeizhang/hivedemo/demodb/salary/sample_07/\n",
    "hdfs dfs -cp hdfs:///user/jason/hivedemo/salary_analysis/salary_all/sample_08.tsv hdfs:///user/dcdsdepeizhang/hivedemo/demodb/salary/sample_08/"
   ]
  },
  {
   "cell_type": "code",
   "execution_count": 33,
   "metadata": {},
   "outputs": [
    {
     "name": "stdout",
     "output_type": "stream",
     "text": [
      "[ssh] host = montana.dataapplab.com, cwd = /home/dcdsdepeizhang/demo\n",
      "Found 1 items\n",
      "-rw-r--r--   3 dcdsdepeizhang student      46055 2020-08-03 23:26 hdfs:///user/dcdsdepeizhang/hivedemo/demodb/salary/sample_07/sample_07.tsv\n",
      "Found 1 items\n",
      "-rw-r--r--   3 dcdsdepeizhang student      46069 2020-08-03 23:26 hdfs:///user/dcdsdepeizhang/hivedemo/demodb/salary/sample_08/sample_08.tsv\n"
     ]
    }
   ],
   "source": [
    "hdfs dfs -ls hdfs:///user/dcdsdepeizhang/hivedemo/demodb/salary/sample_07/\n",
    "hdfs dfs -ls hdfs:///user/dcdsdepeizhang/hivedemo/demodb/salary/sample_08/"
   ]
  },
  {
   "cell_type": "code",
   "execution_count": 34,
   "metadata": {},
   "outputs": [
    {
     "name": "stdout",
     "output_type": "stream",
     "text": [
      "[ssh] host = montana.dataapplab.com, cwd = /home/dcdsdepeizhang/demo\n",
      "1646\n"
     ]
    }
   ],
   "source": [
    "hive -S -e \"use dcdsdepeizhang_demodb; select count(*) as count from salary;\""
   ]
  },
  {
   "cell_type": "code",
   "execution_count": 35,
   "metadata": {},
   "outputs": [
    {
     "name": "stdout",
     "output_type": "stream",
     "text": [
      "[ssh] host = montana.dataapplab.com, cwd = /home/dcdsdepeizhang/demo\n",
      "00-0000\tAll Occupations\t134354250\t40690\t07\n",
      "11-0000\tManagement occupations\t6003930\t96150\t07\n",
      "11-1011\tChief executives\t299160\t151370\t07\n",
      "11-1021\tGeneral and operations managers\t1655410\t103780\t07\n",
      "11-1031\tLegislators\t61110\t33880\t07\n",
      "11-2011\tAdvertising and promotions managers\t36300\t91100\t07\n",
      "11-2021\tMarketing managers\t165240\t113400\t07\n",
      "11-2022\tSales managers\t322170\t106790\t07\n",
      "11-2031\tPublic relations managers\t47210\t97170\t07\n",
      "11-3011\tAdministrative services managers\t239360\t76370\t07\n"
     ]
    }
   ],
   "source": [
    "hive -S -e \"use dcdsdepeizhang_demodb; select * from salary limit 10;\""
   ]
  },
  {
   "cell_type": "code",
   "execution_count": 36,
   "metadata": {},
   "outputs": [
    {
     "name": "stdout",
     "output_type": "stream",
     "text": [
      "[ssh] Closing existing connection.\n",
      "[ssh] Successfully logged out.\n"
     ]
    }
   ],
   "source": [
    "%logout"
   ]
  },
  {
   "cell_type": "code",
   "execution_count": null,
   "metadata": {},
   "outputs": [],
   "source": []
  }
 ],
 "metadata": {
  "kernelspec": {
   "display_name": "SSH",
   "language": "bash",
   "name": "ssh"
  },
  "language_info": {
   "codemirror_mode": "shell",
   "file_extension": ".sh",
   "mimetype": "text/x-sh",
   "name": "ssh"
  }
 },
 "nbformat": 4,
 "nbformat_minor": 4
}
